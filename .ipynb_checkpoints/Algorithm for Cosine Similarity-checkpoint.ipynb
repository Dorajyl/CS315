{
 "cells": [
  {
   "cell_type": "markdown",
   "id": "404fd741",
   "metadata": {},
   "source": [
    "## Agenda\n",
    "1. Create the vocabulary of all unique terms (each of them will be a dimension)\n",
    "2. Represent each document and the query in the vector space created by these terms\n",
    "3. Calculate the cosine similarity between the query and each document\n",
    "4. Rank the results based on the cosine similarity\n"
   ]
  },
  {
   "cell_type": "code",
   "execution_count": 1,
   "id": "281b293e",
   "metadata": {},
   "outputs": [],
   "source": [
    "#pip install numpy"
   ]
  },
  {
   "cell_type": "code",
   "execution_count": 2,
   "id": "ede86b04",
   "metadata": {},
   "outputs": [],
   "source": [
    "#pip install --upgrade nbformat"
   ]
  },
  {
   "cell_type": "code",
   "execution_count": 3,
   "id": "49f418ef",
   "metadata": {},
   "outputs": [],
   "source": [
    "#pip install jupyter"
   ]
  },
  {
   "cell_type": "code",
   "execution_count": 4,
   "id": "6bd1a702",
   "metadata": {},
   "outputs": [],
   "source": [
    "import pandas as pd\n",
    "import numpy as np\n",
    "from numpy.linalg import norm\n",
    "import matplotlib.pyplot as plt\n",
    "import plotly.express as px"
   ]
  },
  {
   "cell_type": "markdown",
   "id": "58d09824",
   "metadata": {},
   "source": [
    "### Generate Pandas Data Frame for the Sentence Vectors"
   ]
  },
  {
   "cell_type": "code",
   "execution_count": 5,
   "id": "172aeddb",
   "metadata": {},
   "outputs": [],
   "source": [
    "voc = ['a', 'and', 'dress', 'earrings', \n",
    "       'has', 'i', 'in', 'is', 'lipstick', \n",
    "       'my', 'new', 'photo', 'red', 'resembles', \n",
    "       'she', 'short', 'stain', 'the', 'tomorrow', \n",
    "       'wear', 'wearing', 'will', 'wine', 'wore']\n",
    "d1 = 'she wore a dress and red earrings'\n",
    "d1 = d1.split(\" \")\n",
    "d2 = 'the dress has a red wine stain'\n",
    "d2 = d2.split(\" \")\n",
    "d3 = 'tomorrow I will wear my new red dress'\n",
    "d3 = d3.split(\" \")\n",
    "d4 = 'the red dress in the photo resembles the red dress she is wearing'\n",
    "d4 = d4.split(\" \")\n",
    "d5 = 'short dress'\n",
    "d5 = d5.split(\" \")\n",
    "d6 = 'my red lipstick'\n",
    "d6 = d6.split(\" \")\n",
    "query = 'red dress'\n",
    "q = query.split(\" \")"
   ]
  },
  {
   "cell_type": "code",
   "execution_count": 6,
   "id": "27990615",
   "metadata": {},
   "outputs": [],
   "source": [
    "def count(d):\n",
    "    \"\"\"\n",
    "    Count the number of times a word appear in the sentence\n",
    "    \"\"\"\n",
    "    dic = {}\n",
    "    for word in d:\n",
    "        if word in dic.keys():\n",
    "            dic[word] += 1\n",
    "        else:\n",
    "            dic[word] = 1\n",
    "    return dic"
   ]
  },
  {
   "cell_type": "code",
   "execution_count": 7,
   "id": "7377e120",
   "metadata": {},
   "outputs": [
    {
     "name": "stdout",
     "output_type": "stream",
     "text": [
      "[1, 1, 1, 1, 0, 0, 0, 0, 0, 0, 0, 0, 1, 0, 1, 0, 0, 0, 0, 0, 0, 0, 0, 1]\n"
     ]
    }
   ],
   "source": [
    "def assign01 (d, voc):\n",
    "    \"\"\"\n",
    "    Generate vectors from the sentences\n",
    "    \"\"\"\n",
    "    ls = []# empty list for vector representation\n",
    "    num = count(d) #number of times a word appear in d\n",
    "    for v in voc:\n",
    "        if v in d:\n",
    "            ls.append(num[v])\n",
    "        else:\n",
    "            ls.append(0)\n",
    "    return ls\n",
    "print(assign01(d1, voc))"
   ]
  },
  {
   "cell_type": "code",
   "execution_count": 8,
   "id": "72d77e45",
   "metadata": {},
   "outputs": [],
   "source": [
    "df = pd.DataFrame(index =['d1','d2','d3','d4','d5','d6'], columns = voc)\n",
    "#df['sentence'] = ['d1','d2','d3','d4','d5','d6','d7']\n",
    "df.loc['d1'] = assign01(d1, voc)\n",
    "df.loc['d2'] = assign01(d2, voc)\n",
    "df.loc['d3'] = assign01(d3, voc)\n",
    "df.loc['d4'] = assign01(d4, voc)\n",
    "df.loc['d5'] = assign01(d5, voc)\n",
    "df.loc['d6'] = assign01(d6, voc)\n",
    "q = assign01(q, voc)"
   ]
  },
  {
   "cell_type": "code",
   "execution_count": 9,
   "id": "396b5c40",
   "metadata": {},
   "outputs": [
    {
     "data": {
      "text/plain": [
       "array([1, 1, 1, 1, 0, 0, 0, 0, 0, 0, 0, 0, 1, 0, 1, 0, 0, 0, 0, 0, 0, 0,\n",
       "       0, 1], dtype=object)"
      ]
     },
     "execution_count": 9,
     "metadata": {},
     "output_type": "execute_result"
    }
   ],
   "source": [
    "# change pandas into numpy array\n",
    "df.loc['d1'].to_numpy()"
   ]
  },
  {
   "cell_type": "code",
   "execution_count": 10,
   "id": "7f11ebd2",
   "metadata": {},
   "outputs": [],
   "source": [
    "def cosineSimilarity(vec1, vec2):\n",
    "    \"\"\"\n",
    "    Calculate the cosine similarity between the two vectors\n",
    "    \"\"\"\n",
    "    v1 = np.array(vec1)\n",
    "    v2 = np.array(vec2)\n",
    "    cosine = np.dot(v1,v2)/(norm(v1)*norm(v2))\n",
    "    return cosine"
   ]
  },
  {
   "cell_type": "code",
   "execution_count": 11,
   "id": "04a70629",
   "metadata": {},
   "outputs": [
    {
     "data": {
      "text/plain": [
       "0.4285714285714285"
      ]
     },
     "execution_count": 11,
     "metadata": {},
     "output_type": "execute_result"
    }
   ],
   "source": [
    "# test\n",
    "cosineSimilarity(df.loc['d1'].to_numpy(),df.loc['d2'].to_numpy())"
   ]
  },
  {
   "cell_type": "markdown",
   "id": "52f69452",
   "metadata": {},
   "source": [
    "### Generate Heat Map"
   ]
  },
  {
   "cell_type": "code",
   "execution_count": 12,
   "id": "430f6868",
   "metadata": {},
   "outputs": [
    {
     "data": {
      "text/plain": [
       "{'d1': [0.9999999999999999,\n",
       "  0.4285714285714285,\n",
       "  0.2857142857142857,\n",
       "  0.39405520311955033,\n",
       "  0.26726124191242434,\n",
       "  0.2182178902359924],\n",
       " 'd2': [0.4285714285714285,\n",
       "  0.9999999999999999,\n",
       "  0.2857142857142857,\n",
       "  0.5516772843673704,\n",
       "  0.26726124191242434,\n",
       "  0.2182178902359924],\n",
       " 'd3': [0.2857142857142857,\n",
       "  0.2857142857142857,\n",
       "  0.9999999999999999,\n",
       "  0.31524416249564025,\n",
       "  0.26726124191242434,\n",
       "  0.4364357804719848],\n",
       " 'd4': [0.39405520311955033,\n",
       "  0.5516772843673704,\n",
       "  0.31524416249564025,\n",
       "  1.0000000000000002,\n",
       "  0.29488391230979427,\n",
       "  0.24077170617153845],\n",
       " 'd5': [0.26726124191242434,\n",
       "  0.26726124191242434,\n",
       "  0.26726124191242434,\n",
       "  0.29488391230979427,\n",
       "  0.9999999999999998,\n",
       "  0.0],\n",
       " 'd6': [0.2182178902359924,\n",
       "  0.2182178902359924,\n",
       "  0.4364357804719848,\n",
       "  0.24077170617153845,\n",
       "  0.0,\n",
       "  1.0000000000000002]}"
      ]
     },
     "execution_count": 12,
     "metadata": {},
     "output_type": "execute_result"
    }
   ],
   "source": [
    "data = ['d1','d2','d3','d4','d5','d6']\n",
    "heatmap_data = {}\n",
    "for d1 in data:\n",
    "    ls_val = []\n",
    "    for d2 in data:\n",
    "        ls_val.append(cosineSimilarity(df.loc[d1].to_numpy(),df.loc[d2].to_numpy()))\n",
    "    heatmap_data[d1] = ls_val\n",
    "heatmap_data"
   ]
  },
  {
   "cell_type": "code",
   "execution_count": 13,
   "id": "ed477ae3",
   "metadata": {},
   "outputs": [
    {
     "data": {
      "text/plain": [
       "(6, 6)"
      ]
     },
     "execution_count": 13,
     "metadata": {},
     "output_type": "execute_result"
    }
   ],
   "source": [
    "#check dimensions\n",
    "dff = pd.DataFrame(heatmap_data)\n",
    "dff.shape"
   ]
  },
  {
   "cell_type": "code",
   "execution_count": 14,
   "id": "db9e6a62",
   "metadata": {},
   "outputs": [
    {
     "data": {
      "application/vnd.plotly.v1+json": {
       "config": {
        "plotlyServerURL": "https://plot.ly"
       },
       "data": [
        {
         "coloraxis": "coloraxis",
         "hovertemplate": "x: %{x}<br>y: %{y}<br>color: %{z}<extra></extra>",
         "name": "0",
         "type": "heatmap",
         "x": [
          "she wore a dress and red ",
          "the dress has a red wine ",
          "tomorrow I will wear my n",
          "the red dress in the phot",
          "short dress",
          "my red lipstick"
         ],
         "xaxis": "x",
         "y": [
          "she wore a dress and red ",
          "the dress has a red wine ",
          "tomorrow I will wear my n",
          "the red dress in the phot",
          "short dress",
          "my red lipstick"
         ],
         "yaxis": "y",
         "z": [
          [
           0.9999999999999999,
           0.4285714285714285,
           0.2857142857142857,
           0.39405520311955033,
           0.26726124191242434,
           0.2182178902359924
          ],
          [
           0.4285714285714285,
           0.9999999999999999,
           0.2857142857142857,
           0.5516772843673704,
           0.26726124191242434,
           0.2182178902359924
          ],
          [
           0.2857142857142857,
           0.2857142857142857,
           0.9999999999999999,
           0.31524416249564025,
           0.26726124191242434,
           0.4364357804719848
          ],
          [
           0.39405520311955033,
           0.5516772843673704,
           0.31524416249564025,
           1.0000000000000002,
           0.29488391230979427,
           0.24077170617153845
          ],
          [
           0.26726124191242434,
           0.26726124191242434,
           0.26726124191242434,
           0.29488391230979427,
           0.9999999999999998,
           0
          ],
          [
           0.2182178902359924,
           0.2182178902359924,
           0.4364357804719848,
           0.24077170617153845,
           0,
           1.0000000000000002
          ]
         ]
        }
       ],
       "layout": {
        "coloraxis": {
         "colorscale": [
          [
           0,
           "rgb(255,255,204)"
          ],
          [
           0.125,
           "rgb(255,237,160)"
          ],
          [
           0.25,
           "rgb(254,217,118)"
          ],
          [
           0.375,
           "rgb(254,178,76)"
          ],
          [
           0.5,
           "rgb(253,141,60)"
          ],
          [
           0.625,
           "rgb(252,78,42)"
          ],
          [
           0.75,
           "rgb(227,26,28)"
          ],
          [
           0.875,
           "rgb(189,0,38)"
          ],
          [
           1,
           "rgb(128,0,38)"
          ]
         ]
        },
        "margin": {
         "t": 60
        },
        "template": {
         "data": {
          "bar": [
           {
            "error_x": {
             "color": "#2a3f5f"
            },
            "error_y": {
             "color": "#2a3f5f"
            },
            "marker": {
             "line": {
              "color": "#E5ECF6",
              "width": 0.5
             },
             "pattern": {
              "fillmode": "overlay",
              "size": 10,
              "solidity": 0.2
             }
            },
            "type": "bar"
           }
          ],
          "barpolar": [
           {
            "marker": {
             "line": {
              "color": "#E5ECF6",
              "width": 0.5
             },
             "pattern": {
              "fillmode": "overlay",
              "size": 10,
              "solidity": 0.2
             }
            },
            "type": "barpolar"
           }
          ],
          "carpet": [
           {
            "aaxis": {
             "endlinecolor": "#2a3f5f",
             "gridcolor": "white",
             "linecolor": "white",
             "minorgridcolor": "white",
             "startlinecolor": "#2a3f5f"
            },
            "baxis": {
             "endlinecolor": "#2a3f5f",
             "gridcolor": "white",
             "linecolor": "white",
             "minorgridcolor": "white",
             "startlinecolor": "#2a3f5f"
            },
            "type": "carpet"
           }
          ],
          "choropleth": [
           {
            "colorbar": {
             "outlinewidth": 0,
             "ticks": ""
            },
            "type": "choropleth"
           }
          ],
          "contour": [
           {
            "colorbar": {
             "outlinewidth": 0,
             "ticks": ""
            },
            "colorscale": [
             [
              0,
              "#0d0887"
             ],
             [
              0.1111111111111111,
              "#46039f"
             ],
             [
              0.2222222222222222,
              "#7201a8"
             ],
             [
              0.3333333333333333,
              "#9c179e"
             ],
             [
              0.4444444444444444,
              "#bd3786"
             ],
             [
              0.5555555555555556,
              "#d8576b"
             ],
             [
              0.6666666666666666,
              "#ed7953"
             ],
             [
              0.7777777777777778,
              "#fb9f3a"
             ],
             [
              0.8888888888888888,
              "#fdca26"
             ],
             [
              1,
              "#f0f921"
             ]
            ],
            "type": "contour"
           }
          ],
          "contourcarpet": [
           {
            "colorbar": {
             "outlinewidth": 0,
             "ticks": ""
            },
            "type": "contourcarpet"
           }
          ],
          "heatmap": [
           {
            "colorbar": {
             "outlinewidth": 0,
             "ticks": ""
            },
            "colorscale": [
             [
              0,
              "#0d0887"
             ],
             [
              0.1111111111111111,
              "#46039f"
             ],
             [
              0.2222222222222222,
              "#7201a8"
             ],
             [
              0.3333333333333333,
              "#9c179e"
             ],
             [
              0.4444444444444444,
              "#bd3786"
             ],
             [
              0.5555555555555556,
              "#d8576b"
             ],
             [
              0.6666666666666666,
              "#ed7953"
             ],
             [
              0.7777777777777778,
              "#fb9f3a"
             ],
             [
              0.8888888888888888,
              "#fdca26"
             ],
             [
              1,
              "#f0f921"
             ]
            ],
            "type": "heatmap"
           }
          ],
          "heatmapgl": [
           {
            "colorbar": {
             "outlinewidth": 0,
             "ticks": ""
            },
            "colorscale": [
             [
              0,
              "#0d0887"
             ],
             [
              0.1111111111111111,
              "#46039f"
             ],
             [
              0.2222222222222222,
              "#7201a8"
             ],
             [
              0.3333333333333333,
              "#9c179e"
             ],
             [
              0.4444444444444444,
              "#bd3786"
             ],
             [
              0.5555555555555556,
              "#d8576b"
             ],
             [
              0.6666666666666666,
              "#ed7953"
             ],
             [
              0.7777777777777778,
              "#fb9f3a"
             ],
             [
              0.8888888888888888,
              "#fdca26"
             ],
             [
              1,
              "#f0f921"
             ]
            ],
            "type": "heatmapgl"
           }
          ],
          "histogram": [
           {
            "marker": {
             "pattern": {
              "fillmode": "overlay",
              "size": 10,
              "solidity": 0.2
             }
            },
            "type": "histogram"
           }
          ],
          "histogram2d": [
           {
            "colorbar": {
             "outlinewidth": 0,
             "ticks": ""
            },
            "colorscale": [
             [
              0,
              "#0d0887"
             ],
             [
              0.1111111111111111,
              "#46039f"
             ],
             [
              0.2222222222222222,
              "#7201a8"
             ],
             [
              0.3333333333333333,
              "#9c179e"
             ],
             [
              0.4444444444444444,
              "#bd3786"
             ],
             [
              0.5555555555555556,
              "#d8576b"
             ],
             [
              0.6666666666666666,
              "#ed7953"
             ],
             [
              0.7777777777777778,
              "#fb9f3a"
             ],
             [
              0.8888888888888888,
              "#fdca26"
             ],
             [
              1,
              "#f0f921"
             ]
            ],
            "type": "histogram2d"
           }
          ],
          "histogram2dcontour": [
           {
            "colorbar": {
             "outlinewidth": 0,
             "ticks": ""
            },
            "colorscale": [
             [
              0,
              "#0d0887"
             ],
             [
              0.1111111111111111,
              "#46039f"
             ],
             [
              0.2222222222222222,
              "#7201a8"
             ],
             [
              0.3333333333333333,
              "#9c179e"
             ],
             [
              0.4444444444444444,
              "#bd3786"
             ],
             [
              0.5555555555555556,
              "#d8576b"
             ],
             [
              0.6666666666666666,
              "#ed7953"
             ],
             [
              0.7777777777777778,
              "#fb9f3a"
             ],
             [
              0.8888888888888888,
              "#fdca26"
             ],
             [
              1,
              "#f0f921"
             ]
            ],
            "type": "histogram2dcontour"
           }
          ],
          "mesh3d": [
           {
            "colorbar": {
             "outlinewidth": 0,
             "ticks": ""
            },
            "type": "mesh3d"
           }
          ],
          "parcoords": [
           {
            "line": {
             "colorbar": {
              "outlinewidth": 0,
              "ticks": ""
             }
            },
            "type": "parcoords"
           }
          ],
          "pie": [
           {
            "automargin": true,
            "type": "pie"
           }
          ],
          "scatter": [
           {
            "fillpattern": {
             "fillmode": "overlay",
             "size": 10,
             "solidity": 0.2
            },
            "type": "scatter"
           }
          ],
          "scatter3d": [
           {
            "line": {
             "colorbar": {
              "outlinewidth": 0,
              "ticks": ""
             }
            },
            "marker": {
             "colorbar": {
              "outlinewidth": 0,
              "ticks": ""
             }
            },
            "type": "scatter3d"
           }
          ],
          "scattercarpet": [
           {
            "marker": {
             "colorbar": {
              "outlinewidth": 0,
              "ticks": ""
             }
            },
            "type": "scattercarpet"
           }
          ],
          "scattergeo": [
           {
            "marker": {
             "colorbar": {
              "outlinewidth": 0,
              "ticks": ""
             }
            },
            "type": "scattergeo"
           }
          ],
          "scattergl": [
           {
            "marker": {
             "colorbar": {
              "outlinewidth": 0,
              "ticks": ""
             }
            },
            "type": "scattergl"
           }
          ],
          "scattermapbox": [
           {
            "marker": {
             "colorbar": {
              "outlinewidth": 0,
              "ticks": ""
             }
            },
            "type": "scattermapbox"
           }
          ],
          "scatterpolar": [
           {
            "marker": {
             "colorbar": {
              "outlinewidth": 0,
              "ticks": ""
             }
            },
            "type": "scatterpolar"
           }
          ],
          "scatterpolargl": [
           {
            "marker": {
             "colorbar": {
              "outlinewidth": 0,
              "ticks": ""
             }
            },
            "type": "scatterpolargl"
           }
          ],
          "scatterternary": [
           {
            "marker": {
             "colorbar": {
              "outlinewidth": 0,
              "ticks": ""
             }
            },
            "type": "scatterternary"
           }
          ],
          "surface": [
           {
            "colorbar": {
             "outlinewidth": 0,
             "ticks": ""
            },
            "colorscale": [
             [
              0,
              "#0d0887"
             ],
             [
              0.1111111111111111,
              "#46039f"
             ],
             [
              0.2222222222222222,
              "#7201a8"
             ],
             [
              0.3333333333333333,
              "#9c179e"
             ],
             [
              0.4444444444444444,
              "#bd3786"
             ],
             [
              0.5555555555555556,
              "#d8576b"
             ],
             [
              0.6666666666666666,
              "#ed7953"
             ],
             [
              0.7777777777777778,
              "#fb9f3a"
             ],
             [
              0.8888888888888888,
              "#fdca26"
             ],
             [
              1,
              "#f0f921"
             ]
            ],
            "type": "surface"
           }
          ],
          "table": [
           {
            "cells": {
             "fill": {
              "color": "#EBF0F8"
             },
             "line": {
              "color": "white"
             }
            },
            "header": {
             "fill": {
              "color": "#C8D4E3"
             },
             "line": {
              "color": "white"
             }
            },
            "type": "table"
           }
          ]
         },
         "layout": {
          "annotationdefaults": {
           "arrowcolor": "#2a3f5f",
           "arrowhead": 0,
           "arrowwidth": 1
          },
          "autotypenumbers": "strict",
          "coloraxis": {
           "colorbar": {
            "outlinewidth": 0,
            "ticks": ""
           }
          },
          "colorscale": {
           "diverging": [
            [
             0,
             "#8e0152"
            ],
            [
             0.1,
             "#c51b7d"
            ],
            [
             0.2,
             "#de77ae"
            ],
            [
             0.3,
             "#f1b6da"
            ],
            [
             0.4,
             "#fde0ef"
            ],
            [
             0.5,
             "#f7f7f7"
            ],
            [
             0.6,
             "#e6f5d0"
            ],
            [
             0.7,
             "#b8e186"
            ],
            [
             0.8,
             "#7fbc41"
            ],
            [
             0.9,
             "#4d9221"
            ],
            [
             1,
             "#276419"
            ]
           ],
           "sequential": [
            [
             0,
             "#0d0887"
            ],
            [
             0.1111111111111111,
             "#46039f"
            ],
            [
             0.2222222222222222,
             "#7201a8"
            ],
            [
             0.3333333333333333,
             "#9c179e"
            ],
            [
             0.4444444444444444,
             "#bd3786"
            ],
            [
             0.5555555555555556,
             "#d8576b"
            ],
            [
             0.6666666666666666,
             "#ed7953"
            ],
            [
             0.7777777777777778,
             "#fb9f3a"
            ],
            [
             0.8888888888888888,
             "#fdca26"
            ],
            [
             1,
             "#f0f921"
            ]
           ],
           "sequentialminus": [
            [
             0,
             "#0d0887"
            ],
            [
             0.1111111111111111,
             "#46039f"
            ],
            [
             0.2222222222222222,
             "#7201a8"
            ],
            [
             0.3333333333333333,
             "#9c179e"
            ],
            [
             0.4444444444444444,
             "#bd3786"
            ],
            [
             0.5555555555555556,
             "#d8576b"
            ],
            [
             0.6666666666666666,
             "#ed7953"
            ],
            [
             0.7777777777777778,
             "#fb9f3a"
            ],
            [
             0.8888888888888888,
             "#fdca26"
            ],
            [
             1,
             "#f0f921"
            ]
           ]
          },
          "colorway": [
           "#636efa",
           "#EF553B",
           "#00cc96",
           "#ab63fa",
           "#FFA15A",
           "#19d3f3",
           "#FF6692",
           "#B6E880",
           "#FF97FF",
           "#FECB52"
          ],
          "font": {
           "color": "#2a3f5f"
          },
          "geo": {
           "bgcolor": "white",
           "lakecolor": "white",
           "landcolor": "#E5ECF6",
           "showlakes": true,
           "showland": true,
           "subunitcolor": "white"
          },
          "hoverlabel": {
           "align": "left"
          },
          "hovermode": "closest",
          "mapbox": {
           "style": "light"
          },
          "paper_bgcolor": "white",
          "plot_bgcolor": "#E5ECF6",
          "polar": {
           "angularaxis": {
            "gridcolor": "white",
            "linecolor": "white",
            "ticks": ""
           },
           "bgcolor": "#E5ECF6",
           "radialaxis": {
            "gridcolor": "white",
            "linecolor": "white",
            "ticks": ""
           }
          },
          "scene": {
           "xaxis": {
            "backgroundcolor": "#E5ECF6",
            "gridcolor": "white",
            "gridwidth": 2,
            "linecolor": "white",
            "showbackground": true,
            "ticks": "",
            "zerolinecolor": "white"
           },
           "yaxis": {
            "backgroundcolor": "#E5ECF6",
            "gridcolor": "white",
            "gridwidth": 2,
            "linecolor": "white",
            "showbackground": true,
            "ticks": "",
            "zerolinecolor": "white"
           },
           "zaxis": {
            "backgroundcolor": "#E5ECF6",
            "gridcolor": "white",
            "gridwidth": 2,
            "linecolor": "white",
            "showbackground": true,
            "ticks": "",
            "zerolinecolor": "white"
           }
          },
          "shapedefaults": {
           "line": {
            "color": "#2a3f5f"
           }
          },
          "ternary": {
           "aaxis": {
            "gridcolor": "white",
            "linecolor": "white",
            "ticks": ""
           },
           "baxis": {
            "gridcolor": "white",
            "linecolor": "white",
            "ticks": ""
           },
           "bgcolor": "#E5ECF6",
           "caxis": {
            "gridcolor": "white",
            "linecolor": "white",
            "ticks": ""
           }
          },
          "title": {
           "x": 0.05
          },
          "xaxis": {
           "automargin": true,
           "gridcolor": "white",
           "linecolor": "white",
           "ticks": "",
           "title": {
            "standoff": 15
           },
           "zerolinecolor": "white",
           "zerolinewidth": 2
          },
          "yaxis": {
           "automargin": true,
           "gridcolor": "white",
           "linecolor": "white",
           "ticks": "",
           "title": {
            "standoff": 15
           },
           "zerolinecolor": "white",
           "zerolinewidth": 2
          }
         }
        },
        "xaxis": {
         "anchor": "y",
         "constrain": "domain",
         "domain": [
          0,
          1
         ],
         "scaleanchor": "y"
        },
        "yaxis": {
         "anchor": "x",
         "autorange": "reversed",
         "constrain": "domain",
         "domain": [
          0,
          1
         ]
        }
       }
      }
     },
     "metadata": {},
     "output_type": "display_data"
    }
   ],
   "source": [
    "sentences = ['she wore a dress and red earrings'[:25],\n",
    "             'the dress has a red wine stain'[:25],\n",
    "             'tomorrow I will wear my new red dress'[:25],\n",
    "             'the red dress in the photo resembles the red dress she is wearing'[:25],\n",
    "             'short dress'[:25],\n",
    "             'my red lipstick'[:25]]\n",
    "fig = px.imshow([ii for ii in heatmap_data.values()], \n",
    "                 color_continuous_scale=px.colors.sequential.YlOrRd, # the color palette name\n",
    "                x=sentences,\n",
    "                y=sentences,)\n",
    "#fig.update_xaxes(side=\"top\")\n",
    "\n",
    "fig.show()\n",
    "\n"
   ]
  }
 ],
 "metadata": {
  "kernelspec": {
   "display_name": "Python 3 (ipykernel)",
   "language": "python",
   "name": "python3"
  },
  "language_info": {
   "codemirror_mode": {
    "name": "ipython",
    "version": 3
   },
   "file_extension": ".py",
   "mimetype": "text/x-python",
   "name": "python",
   "nbconvert_exporter": "python",
   "pygments_lexer": "ipython3",
   "version": "3.11.5"
  }
 },
 "nbformat": 4,
 "nbformat_minor": 5
}
