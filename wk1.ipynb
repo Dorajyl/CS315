{
 "cells": [
  {
   "cell_type": "markdown",
   "id": "42ab8190",
   "metadata": {},
   "source": [
    "# CS 315 Practice Problem\n",
    "\n",
    "**Table of Contents**\n",
    "\n",
    "1. [Use the csv library to write some data into a CSV file](#sec1)\n",
    "2. [Use csv and jinja2](#sec2)  \n",
    "    2.1 [convert that information into an HTML file](#sec2.1)  \n",
    "    2.2 [upload that file into the server](#sec2.2)\n",
    "3. [use beautifulsoup to extract content](#sec4)\n",
    "4. [save that content into a JSON file](#sec5)\n"
   ]
  },
  {
   "cell_type": "markdown",
   "id": "76c62016",
   "metadata": {},
   "source": [
    "<a id=\"sec1\"></a>\n",
    "### 1. Use the csv library to write some data into a CSV file"
   ]
  },
  {
   "cell_type": "code",
   "execution_count": 2,
   "id": "f655e0d9",
   "metadata": {},
   "outputs": [],
   "source": [
    "import csv"
   ]
  },
  {
   "cell_type": "code",
   "execution_count": 3,
   "id": "7ce94d8f",
   "metadata": {},
   "outputs": [],
   "source": [
    "rows = [{\"Name\": \"Dora\", \"Class\": \"2026\"},\n",
    "        {\"Name\": \"Stu1\", \"Class\": \"2023\"},\n",
    "        {\"Name\": \"Stu2\", \"Class\": \"2024\"}]"
   ]
  },
  {
   "cell_type": "code",
   "execution_count": 4,
   "id": "706c4f62",
   "metadata": {},
   "outputs": [],
   "source": [
    "with open(\"wk1.csv\", 'w') as fileToWrite:\n",
    "    csvWriter = csv.DictWriter(fileToWrite, \n",
    "                               fieldnames=rows[0].keys()) # get the key names as column names\n",
    "    \n",
    "    csvWriter.writeheader() # write the column names\n",
    "    csvWriter.writerows(rows) # write all rows"
   ]
  },
  {
   "cell_type": "markdown",
   "id": "5c82e2b5",
   "metadata": {},
   "source": [
    "<a id=\"sec2\"></a>\n",
    "### 2. Use csv and jinja2"
   ]
  },
  {
   "cell_type": "markdown",
   "id": "1e6b4fe8",
   "metadata": {},
   "source": [
    "<a id=\"sec2.1\"></a>\n",
    "#### convert that information into an HTML file"
   ]
  },
  {
   "cell_type": "code",
   "execution_count": 5,
   "id": "6a721f99",
   "metadata": {},
   "outputs": [],
   "source": [
    "from jinja2 import Template"
   ]
  },
  {
   "cell_type": "code",
   "execution_count": 6,
   "id": "21e78a4f",
   "metadata": {},
   "outputs": [],
   "source": [
    "htmlTemplate = \"\"\"\n",
    "<!DOCTYPE html>\n",
    "<html>\n",
    "    <head><title>Wellesley Students</title></head>\n",
    "    <body>\n",
    "        <h1>Students at Wellesley</h1>\n",
    "        <ul>\n",
    "        {% for st in studentsList %}\n",
    "            <li class=\"student\">{{ st['Name'] }}, Class of {{ st['Class'] }}.</li> \n",
    "        {% endfor %}\n",
    "        </ul>\n",
    "    </body>\n",
    "</html>\n",
    "\"\"\"\n",
    "\n",
    "tempObj = Template(htmlTemplate)"
   ]
  },
  {
   "cell_type": "code",
   "execution_count": 7,
   "id": "d17763c6",
   "metadata": {},
   "outputs": [
    {
     "name": "stdout",
     "output_type": "stream",
     "text": [
      "\n",
      "<DOCTYPE html>\n",
      "<html>\n",
      "    <head><title>Wellesley Students</title></head>\n",
      "    <body>\n",
      "        <h1>Students at Wellesley</h1>\n",
      "        <ul>\n",
      "        \n",
      "            <li class=\"student\">Dora, Class of 2026.</li> \n",
      "        \n",
      "            <li class=\"student\">Stu1, Class of 2023.</li> \n",
      "        \n",
      "            <li class=\"student\">Stu2, Class of 2024.</li> \n",
      "        \n",
      "        </ul>\n",
      "    </body>\n",
      "</html>\n"
     ]
    }
   ],
   "source": [
    "result = tempObj.render(studentsList=rows)\n",
    "print(result)"
   ]
  },
  {
   "cell_type": "code",
   "execution_count": 8,
   "id": "41ff7940",
   "metadata": {},
   "outputs": [],
   "source": [
    "with open('wk1.html', 'w') as outFile:\n",
    "    outFile.write(result)"
   ]
  },
  {
   "cell_type": "markdown",
   "id": "8a6053c5",
   "metadata": {},
   "source": [
    "<a id=\"sec2.1\"></a>\n",
    "#### upload that file into the server"
   ]
  },
  {
   "cell_type": "markdown",
   "id": "93ead491",
   "metadata": {},
   "source": [
    "scp wk1.html jl130@cs.wellesley.edu:/students/jl130/public_html"
   ]
  },
  {
   "cell_type": "markdown",
   "id": "bdb29dc5",
   "metadata": {},
   "source": [
    "<a id=\"sec3\"></a>\n",
    "### 3. use beautifulsoup to extract content"
   ]
  },
  {
   "cell_type": "code",
   "execution_count": 9,
   "id": "2af38d9b",
   "metadata": {},
   "outputs": [],
   "source": [
    "import requests\n",
    "import bs4\n",
    "from bs4 import BeautifulSoup as BS"
   ]
  },
  {
   "cell_type": "code",
   "execution_count": 11,
   "id": "cff9f87c",
   "metadata": {},
   "outputs": [
    {
     "name": "stdout",
     "output_type": "stream",
     "text": [
      "403\n"
     ]
    }
   ],
   "source": [
    "response = requests.get(\"http://cs.wellesley.edu/~jl130/wk1.html\")\n",
    "print(response.status_code)"
   ]
  },
  {
   "cell_type": "code",
   "execution_count": null,
   "id": "f56ce092",
   "metadata": {},
   "outputs": [],
   "source": [
    "def getHTMLPage(url):\n",
    "    \"\"\"Given a url, get the HTML page content\"\"\"\n",
    "    \n",
    "    response = requests.get(url)\n",
    "    if response.status_code == 200:\n",
    "        return response.text\n",
    "    else:\n",
    "        print(\"Failure resaon:\", response.reason)\n",
    "        return\n",
    "url = \n",
    "content = getHTMLPage(url)"
   ]
  },
  {
   "cell_type": "code",
   "execution_count": null,
   "id": "6c91c151",
   "metadata": {},
   "outputs": [],
   "source": [
    "body = content.find('body')"
   ]
  },
  {
   "cell_type": "markdown",
   "id": "d762fd0c",
   "metadata": {},
   "source": [
    "<a id=\"sec4\"></a>\n",
    "### 4. save that content into a JSON file"
   ]
  },
  {
   "cell_type": "code",
   "execution_count": null,
   "id": "1b20d9c6",
   "metadata": {},
   "outputs": [],
   "source": [
    "import json\n",
    "with open('hogwarts-J.json', 'w') as outFile:\n",
    "    json.dump(students, outFile)"
   ]
  }
 ],
 "metadata": {
  "kernelspec": {
   "display_name": "Python 3 (ipykernel)",
   "language": "python",
   "name": "python3"
  },
  "language_info": {
   "codemirror_mode": {
    "name": "ipython",
    "version": 3
   },
   "file_extension": ".py",
   "mimetype": "text/x-python",
   "name": "python",
   "nbconvert_exporter": "python",
   "pygments_lexer": "ipython3",
   "version": "3.11.5"
  }
 },
 "nbformat": 4,
 "nbformat_minor": 5
}
